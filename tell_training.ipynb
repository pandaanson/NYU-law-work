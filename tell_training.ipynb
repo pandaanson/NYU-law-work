{
 "cells": [
  {
   "cell_type": "code",
   "execution_count": null,
   "metadata": {},
   "outputs": [],
   "source": [
    "#Please rename this to the data file provided\n",
    "data_and_output_dir='/Users/ansonkong/Downloads/Data for nyu work/'\n",
    "# Start by importing the TELL package and information about your operating system:\n",
    "import os \n",
    "import tell"
   ]
  },
  {
   "cell_type": "markdown",
   "metadata": {},
   "source": [
    "For data cleaning, manual data input:\n"
   ]
  },
  {
   "cell_type": "code",
   "execution_count": null,
   "metadata": {},
   "outputs": [],
   "source": [
    "#Cross check , if the follwing have zero demand, it is normal\n",
    "Generate_only_ba={'AVRN',\n",
    " 'DEAA',\n",
    " 'GLHB',\n",
    " 'GRID',\n",
    " 'GRIF',\n",
    " 'GRMA',\n",
    " 'GWA',\n",
    " 'HGMA',\n",
    " 'WWA',\n",
    " 'YAD'}\n",
    "\n",
    "#Incase of fail to join, add warning in the code if any of them were use\n",
    "manelmapping={\n",
    "    \"GCPD\": \"p4\",\n",
    "    \"WAUM\": \"p20\",\n",
    "    \"SPA\": \"p84\",\n",
    "    \"TEPC\": \"p27\",\n",
    "    \"TPWR\": \"p1\",\n",
    "    \"DOPD\": \"p3\",\n",
    "    \"JEA\": \"p3\",\n",
    "    \"FMPP\": \"p102\",\n",
    "    \"CHPD\": \"p1\",\n",
    "    \"LDWP\": \"p10\",\n",
    "    \"GCPD\": \"p109\",\n",
    "    \"LGEE\": [\"p109\",\"p108\"],\n",
    "    \"PGE\": \"p5\",\n",
    "    \"SRP\": \"p28\",\n",
    "    \"TEC\": \"p101\",\n",
    "    \"OVEC\": \"p112\",\n",
    "    \"TAL\": \"p101\",\n",
    "    \"BANC\": \"p9\",\n",
    "    \"PSEI\": \"p1\",\n",
    "    \"SCL\": \"p1\",\n",
    "    \"NBSO\": \"p34\",\n",
    "    \"FPC\": \"p101\",\n",
    "    \"NSB\": \"p101\",\n",
    "    \"HST\": \"p102\",\n",
    "    \"SEPA\": \"p94\",\n",
    "    \"SCEG\": \"p96\",\n",
    "    \"GVL\": \"p101\",\n",
    "    \"IID\": \"p10\",\n",
    "    \"TIDC\": \"p9\",\n",
    "    \"CPLW\": \"p56\",\n",
    "    \"WAUW\": \"p18\"\n",
    "}"
   ]
  }
 ],
 "metadata": {
  "language_info": {
   "name": "python"
  }
 },
 "nbformat": 4,
 "nbformat_minor": 2
}

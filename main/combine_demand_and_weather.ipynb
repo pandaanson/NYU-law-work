{
 "cells": [
  {
   "cell_type": "code",
   "execution_count": null,
   "metadata": {},
   "outputs": [],
   "source": [
    "#\n",
    "data_and_output_dir = '/Users/ansonkong/Downloads/Data for nyu work/'\n",
    "start_of_train_year=2015\n",
    "end_of_train_year=2019\n",
    "\n"
   ]
  },
  {
   "cell_type": "markdown",
   "metadata": {},
   "source": []
  },
  {
   "cell_type": "code",
   "execution_count": null,
   "metadata": {},
   "outputs": [],
   "source": [
    "#demand\n",
    "demand_folder=data_and_output_dir+'output/demand_aggreate' \n",
    "#each are store in os.path.join(output_folder_path, f'aggregated_demand_population_{year}.csv')\n",
    "#column: 'reeds_ba'\t'UTC' 'Time at End of Hour'\t'Demand'\t'Population'\n",
    "\n",
    "#weather\n",
    "weather_folder = data_and_output_dir +'output/'+'historical_weather'\n",
    "# each file store in format of os.path.join(folder_to_store, f\"{reeds_ba}_WRF_Hourly_Mean_Meteorology_{year}.csv\")\n",
    "#column:'Time_UTC' 'T2'\t'Q2'\t'SWDOWN'\t'GLW'\t'WSPD'\n",
    "\n",
    "output_folder=data_and_output_dir +'output/'+'demand_weather_combine'\n",
    "#Target file name:{reeds_ba}_WRF_Hourly_Mean_Meteorology.csv\n",
    "#column:'Time_UTC' 'T2'\t'Q2'\t'SWDOWN'\t'GLW'\t'WSPD' 'Demand'\t'Population'"
   ]
  },
  {
   "cell_type": "code",
   "execution_count": null,
   "metadata": {},
   "outputs": [],
   "source": [
    "import pandas as pd\n",
    "import os\n",
    "\n",
    "# Loop through reeds_ba values\n",
    "for reeds_ba_value in [f'p{i}' for i in range(1, 135)]:\n",
    "    # Initialize a DataFrame to collect the yearly combined data\n",
    "    combined_df_yearly = pd.DataFrame()\n",
    "\n",
    "    # Find the demand and weather files for the current reeds_ba value\n",
    "    for year in range(start_of_train_year, end_of_train_year+1):  # Adjust the year range as necessary\n",
    "        demand_file = os.path.join(demand_folder, f'aggregated_demand_population_{year}.csv')\n",
    "        weather_file = os.path.join(weather_folder, f\"{reeds_ba_value}_WRF_Hourly_Mean_Meteorology_{year}.csv\")\n",
    "\n",
    "        # Check if both files exist for the current year\n",
    "        if os.path.exists(demand_file) and os.path.exists(weather_file):\n",
    "            demand_df = pd.read_csv(demand_file)\n",
    "            weather_df = pd.read_csv(weather_file)\n",
    "\n",
    "            # Filter demand data for the current reeds_ba\n",
    "            demand_df_filtered = demand_df[demand_df['reeds_ba'] == reeds_ba_value]\n",
    "\n",
    "            # Join demand and weather data on time columns\n",
    "            combined_df = pd.merge(weather_df, demand_df_filtered, left_on='Time_UTC', right_on='UTC Time at End of Hour', how='inner')\n",
    "\n",
    "            # Select and rename columns as required\n",
    "            combined_df = combined_df[['Time_UTC', 'T2', 'Q2', 'SWDOWN', 'GLW', 'WSPD', 'Demand', 'Population']]\n",
    "\n",
    "            # Append to the yearly DataFrame\n",
    "            combined_df_yearly = pd.concat([combined_df_yearly, combined_df], ignore_index=True)\n",
    "\n",
    "    # After processing all years for the current reeds_ba, save the combined data\n",
    "    if not combined_df_yearly.empty:\n",
    "        output_file = os.path.join(output_folder, f\"{reeds_ba_value}_historical_data.csv\")\n",
    "        # Convert 'Time_UTC' to datetime format\n",
    "        combined_df_yearly['Time_UTC'] = pd.to_datetime(combined_df_yearly['Time_UTC'])\n",
    "\n",
    "        # Extract year, month, day, and hour\n",
    "        combined_df_yearly['Year'] = combined_df_yearly['Time_UTC'].dt.year\n",
    "        combined_df_yearly['Month'] = combined_df_yearly['Time_UTC'].dt.month\n",
    "        combined_df_yearly['Day'] = combined_df_yearly['Time_UTC'].dt.day\n",
    "        combined_df_yearly['Hour'] = combined_df_yearly['Time_UTC'].dt.hour + 1  # Adjusting hour to 1-24 format\n",
    "\n",
    "        # Rename columns\n",
    "        combined_df_yearly.rename(columns={'Demand': 'Adjusted_Demand_MWh', 'Population': 'Total_Population'}, inplace=True)\n",
    "\n",
    "        # Select and order the columns as required\n",
    "        transformed_df = combined_df_yearly[['Year', 'Month', 'Day', 'Hour', 'Adjusted_Demand_MWh', 'Total_Population', 'T2', 'Q2', 'SWDOWN', 'GLW', 'WSPD']]\n",
    "\n",
    "        combined_df_yearly.to_csv(output_file, index=False)\n",
    "        print(f\"Saved combined data for {reeds_ba_value}.\")\n",
    "\n",
    "print(\"All data processing complete.\")\n"
   ]
  }
 ],
 "metadata": {
  "language_info": {
   "name": "python"
  }
 },
 "nbformat": 4,
 "nbformat_minor": 2
}

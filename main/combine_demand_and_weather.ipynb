{
 "cells": [
  {
   "cell_type": "code",
   "execution_count": null,
   "metadata": {},
   "outputs": [],
   "source": [
    "#\n",
    "data_and_output_dir = '/Users/ansonkong/Downloads/Data for nyu work/'\n",
    "start_of_train_year=2015\n",
    "end_of_train_year=2019\n",
    "\n"
   ]
  },
  {
   "cell_type": "markdown",
   "metadata": {},
   "source": []
  },
  {
   "cell_type": "code",
   "execution_count": null,
   "metadata": {},
   "outputs": [],
   "source": [
    "#demand\n",
    "demand_folder=data_and_output_dir+'output/demand_aggreate' \n",
    "#each are store in os.path.join(output_folder_path, f'aggregated_demand_population_{year}.csv')\n",
    "\n",
    "#weather\n",
    "weather_folder = data_and_output_dir +'output/'+'historical_weather'\n",
    "# each file store in format of os.path.join(folder_to_store, f\"{rb}_WRF_Hourly_Mean_Meteorology_{year}.csv\")\n",
    "\n",
    "output_folder=data_and_output_dir +'output/'+'demand_weather_combine'"
   ]
  },
  {
   "cell_type": "code",
   "execution_count": null,
   "metadata": {},
   "outputs": [],
   "source": [
    "#Trash \n",
    "\n",
    "\n",
    "#sample\n",
    "print()"
   ]
  }
 ],
 "metadata": {
  "language_info": {
   "name": "python"
  }
 },
 "nbformat": 4,
 "nbformat_minor": 2
}

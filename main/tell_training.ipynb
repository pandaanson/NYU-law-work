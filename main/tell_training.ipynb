{
 "cells": [
  {
   "cell_type": "code",
   "execution_count": null,
   "metadata": {},
   "outputs": [],
   "source": [
    "#Please rename this to the data file provided\n",
    "data_and_output_dir = '/Users/ansonkong/Downloads/Data for nyu work/'\n",
    "start_of_train_year=2015\n",
    "end_of_train_year=2019\n",
    "\n",
    "# Start by importing the TELL package and information about your operating system:\n",
    "import os \n",
    "import tell"
   ]
  },
  {
   "cell_type": "markdown",
   "metadata": {},
   "source": [
    "For data cleaning, manual data input:\n"
   ]
  },
  {
   "cell_type": "code",
   "execution_count": null,
   "metadata": {},
   "outputs": [],
   "source": [
    "expect_group=[f'p{i}' for i in range(1, 135)]"
   ]
  },
  {
   "cell_type": "code",
   "execution_count": null,
   "metadata": {},
   "outputs": [],
   "source": [
    "# Run the MLP training step for the list of BAs using parallel processing streams:\n",
    "prediction_df, validation_df = tell.train_batch(target_region_list = expect_group,\n",
    "                                                data_dir = data_and_output_dir +'output/'+'demand_weather_combine',\n",
    "                                                n_jobs = -1,save_model=True)\n",
    "\n",
    "# View the validation dataframe that contains error statistics for the trained models:\n",
    "validation_df\n",
    "# Plot the statistical performance (e.g., RMS_ABS, RMS_NORM, MAPE, or R2) of the predictive models across all the BAs in TELL:\n",
    "tell.plot_mlp_summary_statistics(validation_df, \n",
    "                                 image_output_dir = data_and_output_dir +'output/'+'image',\n",
    "                                 image_resolution = 150,\n",
    "                                 save_images = True)"
   ]
  }
 ],
 "metadata": {
  "kernelspec": {
   "display_name": "base",
   "language": "python",
   "name": "python3"
  },
  "language_info": {
   "codemirror_mode": {
    "name": "ipython",
    "version": 3
   },
   "file_extension": ".py",
   "mimetype": "text/x-python",
   "name": "python",
   "nbconvert_exporter": "python",
   "pygments_lexer": "ipython3",
   "version": "3.9.18"
  }
 },
 "nbformat": 4,
 "nbformat_minor": 2
}

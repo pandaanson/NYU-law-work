{
 "cells": [
  {
   "cell_type": "code",
   "execution_count": null,
   "metadata": {},
   "outputs": [],
   "source": [
    "#Please rename this to the data file provided\n",
    "data_and_output_dir='/Users/ansonkong/Downloads/Data for nyu work/'\n",
    "# Start by importing the TELL package and information about your operating system:\n",
    "import os \n",
    "import tell"
   ]
  },
  {
   "cell_type": "markdown",
   "metadata": {},
   "source": [
    "For data cleaning, manual data input:\n"
   ]
  },
  {
   "cell_type": "code",
   "execution_count": 2,
   "metadata": {},
   "outputs": [
    {
     "name": "stdout",
     "output_type": "stream",
     "text": [
      "The file /Users/ansonkong/Downloads/Data for nyu work/output/final_expanded_results_demand.csv contains 60002438 rows.\n"
     ]
    }
   ],
   "source": [
    "import pandas as pd\n",
    "data_and_output_dir = '/Users/ansonkong/Downloads/Data for nyu work/'\n",
    "# Define the path to your CSV file\n",
    "output_csv_path = data_and_output_dir+'output/final_expanded_results_demand.csv'\n",
    "\n",
    "# Initialize a counter for the rows\n",
    "row_count = 0\n",
    "\n",
    "# Create an iterator to read the file in chunks of, e.g., 10000 rows at a time\n",
    "chunk_iter = pd.read_csv(output_csv_path, iterator=True, chunksize=10000)\n",
    "\n",
    "# Iterate over the file in chunks and sum up the number of rows\n",
    "for chunk in chunk_iter:\n",
    "    row_count += len(chunk)\n",
    "\n",
    "# Print the total number of rows\n",
    "print(f\"The file {output_csv_path} contains {row_count} rows.\")\n"
   ]
  },
  {
   "cell_type": "code",
   "execution_count": null,
   "metadata": {},
   "outputs": [],
   "source": [
    "#Cross check , if the follwing have zero demand, it is normal\n",
    "Generate_only_ba={'AVRN',\n",
    " 'DEAA',\n",
    " 'GLHB',\n",
    " 'GRID',\n",
    " 'GRIF',\n",
    " 'GRMA',\n",
    " 'GWA',\n",
    " 'HGMA',\n",
    " 'WWA',\n",
    " 'YAD'}\n",
    "\n",
    "#Incase of fail to join, add warning in the code if any of them were use\n",
    "manelmapping={\n",
    "    \"GCPD\": \"p4\",\n",
    "    \"WAUM\": \"p20\",\n",
    "    \"SPA\": \"p84\",\n",
    "    \"TEPC\": \"p27\",\n",
    "    \"TPWR\": \"p1\",\n",
    "    \"DOPD\": \"p3\",\n",
    "    \"JEA\": \"p3\",\n",
    "    \"FMPP\": \"p102\",\n",
    "    \"CHPD\": \"p1\",\n",
    "    \"LDWP\": \"p10\",\n",
    "    \"GCPD\": \"p109\",\n",
    "    \"LGEE\": [\"p109\",\"p108\"],\n",
    "    \"PGE\": \"p5\",\n",
    "    \"SRP\": \"p28\",\n",
    "    \"TEC\": \"p101\",\n",
    "    \"OVEC\": \"p112\",\n",
    "    \"TAL\": \"p101\",\n",
    "    \"BANC\": \"p9\",\n",
    "    \"PSEI\": \"p1\",\n",
    "    \"SCL\": \"p1\",\n",
    "    \"NBSO\": \"p34\",\n",
    "    \"FPC\": \"p101\",\n",
    "    \"NSB\": \"p101\",\n",
    "    \"HST\": \"p102\",\n",
    "    \"SEPA\": \"p94\",\n",
    "    \"SCEG\": \"p96\",\n",
    "    \"GVL\": \"p101\",\n",
    "    \"IID\": \"p10\",\n",
    "    \"TIDC\": \"p9\",\n",
    "    \"CPLW\": \"p56\",\n",
    "    \"WAUW\": \"p18\"\n",
    "}"
   ]
  }
 ],
 "metadata": {
  "kernelspec": {
   "display_name": "base",
   "language": "python",
   "name": "python3"
  },
  "language_info": {
   "codemirror_mode": {
    "name": "ipython",
    "version": 3
   },
   "file_extension": ".py",
   "mimetype": "text/x-python",
   "name": "python",
   "nbconvert_exporter": "python",
   "pygments_lexer": "ipython3",
   "version": "3.9.18"
  }
 },
 "nbformat": 4,
 "nbformat_minor": 2
}
